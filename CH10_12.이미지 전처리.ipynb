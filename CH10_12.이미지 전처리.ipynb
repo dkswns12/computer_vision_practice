{
 "cells": [
  {
   "cell_type": "code",
   "execution_count": null,
   "id": "e8801170",
   "metadata": {},
   "outputs": [],
   "source": [
    "import cv2\n",
    "\n",
    "img = cv2.imread(‘image.jpg’, cv2.IMREAD_GRAYSCALE) # cv2.IMREAD_COLOR\n",
    "# imread-이미지 읽어 오는 함수-(이미지 파일, 불러오는 방식-RGB, gray-scale 등)\n",
    "\n",
    "img.shape\n",
    "# gray-scale-(width, height), RGB-(width, height, channel)\n",
    "\n",
    "img = cv2.resize(img, (200, 200))\n",
    "# (이미지, resize 할 사이즈)\n",
    "\n",
    "img = img[:100, :100]\n",
    "# 가로, 세로 방향으로의 지정한 픽셀 만큼을 불러옴.\n",
    "\n",
    "kernel = np.array([[0, -1, 0],\n",
    "[-1, 5, -1],\n",
    "[0, -1, 0]])\n",
    "# 커널-sharpen filter\n",
    "\n",
    "img = cv2.filter2D(img, -1, kernel)\n",
    "# 해당 필터를 이미지에 적용.\n",
    "# (이미지, -1(아웃풋 데이터 타입을 인풋 데이터 타입과 동일), 적용할 필터(커널))\n",
    "\n",
    "img = cv2.normalize(img, None, 0, 255, cv2.NORM_MINMAX)\n",
    "# (이미지, ,minMax 적용)"
   ]
  }
 ],
 "metadata": {
  "kernelspec": {
   "display_name": "pracCNN",
   "language": "python",
   "name": "praccnn"
  },
  "language_info": {
   "codemirror_mode": {
    "name": "ipython",
    "version": 3
   },
   "file_extension": ".py",
   "mimetype": "text/x-python",
   "name": "python",
   "nbconvert_exporter": "python",
   "pygments_lexer": "ipython3",
   "version": "3.7.11"
  }
 },
 "nbformat": 4,
 "nbformat_minor": 5
}
